{
 "metadata": {
  "name": "Python and Pandas"
 },
 "nbformat": 3,
 "nbformat_minor": 0,
 "worksheets": [
  {
   "cells": [
    {
     "cell_type": "code",
     "collapsed": false,
     "input": "print \"Hello, World.\"",
     "language": "python",
     "metadata": {},
     "outputs": [
      {
       "output_type": "stream",
       "stream": "stdout",
       "text": "Hello, World.\n"
      }
     ],
     "prompt_number": 1
    },
    {
     "cell_type": "markdown",
     "metadata": {},
     "source": "Python is an **interpreted** language designed for producing **readable** code.  You can focus more on the problem you want to solve and less on the syntax of the language.  \n\nIt's not compiled, so you can work in a shell in addition to saving programs to files.  This helps you rapidly develop your program by getting feedback right now.  The IPython shell provides a number of additional features, including tab completion, magic helper functions and this notebook.\n\nPython comes with a very large set of libraries built in.  It also has a package management tool 'pip'.  Once you have pip installed, try:\n\n`pip install pandas`\n\n\n"
    },
    {
     "cell_type": "heading",
     "level": 4,
     "metadata": {},
     "source": "\nCode blocks are determined by whitespace, in contrast to the \"curly brace\" languages."
    },
    {
     "cell_type": "code",
     "collapsed": false,
     "input": "if True and not False:\n    for x in 1,2,3:\n        print x",
     "language": "python",
     "metadata": {},
     "outputs": [
      {
       "output_type": "stream",
       "stream": "stdout",
       "text": "1\n2\n3\n"
      }
     ],
     "prompt_number": 2
    },
    {
     "cell_type": "markdown",
     "metadata": {},
     "source": "Don't mix tabs and spaces!  They look the same, but a tab is the same as one space.  A good text editor will take care of this for you.  \n\nI use Emacs, but I also recommend Sublime Text."
    },
    {
     "cell_type": "markdown",
     "metadata": {},
     "source": "Be careful, scoping can be a little weird.  "
    },
    {
     "cell_type": "code",
     "collapsed": false,
     "input": "while x < 7:\n    print x\n    x += 1",
     "language": "python",
     "metadata": {},
     "outputs": [
      {
       "output_type": "stream",
       "stream": "stdout",
       "text": "3\n4\n5\n6\n"
      }
     ],
     "prompt_number": 3
    },
    {
     "cell_type": "markdown",
     "metadata": {},
     "source": "This weird scoping doesn't move past certain types of code blocks though."
    },
    {
     "cell_type": "code",
     "collapsed": false,
     "input": "def foo(a, b, myotherarg, *args, **kwargs):\n    y = 0\n    print y\n    y += 1\n    print y\n    \ndef bar():\n    print y",
     "language": "python",
     "metadata": {},
     "outputs": [],
     "prompt_number": 4
    },
    {
     "cell_type": "code",
     "collapsed": false,
     "input": "foo()",
     "language": "python",
     "metadata": {},
     "outputs": [
      {
       "output_type": "stream",
       "stream": "stdout",
       "text": "0\n1\n"
      }
     ],
     "prompt_number": 5
    },
    {
     "cell_type": "code",
     "collapsed": false,
     "input": "bar()",
     "language": "python",
     "metadata": {},
     "outputs": [
      {
       "ename": "NameError",
       "evalue": "global name 'y' is not defined",
       "output_type": "pyerr",
       "traceback": [
        "\u001b[0;31m---------------------------------------------------------------------------\u001b[0m\n\u001b[0;31mNameError\u001b[0m                                 Traceback (most recent call last)",
        "\u001b[0;32m<ipython-input-6-4c8101bd3664>\u001b[0m in \u001b[0;36m<module>\u001b[0;34m()\u001b[0m\n\u001b[0;32m----> 1\u001b[0;31m \u001b[0mbar\u001b[0m\u001b[0;34m(\u001b[0m\u001b[0;34m)\u001b[0m\u001b[0;34m\u001b[0m\u001b[0m\n\u001b[0m",
        "\u001b[0;32m<ipython-input-4-8ea63d24fc17>\u001b[0m in \u001b[0;36mbar\u001b[0;34m()\u001b[0m\n\u001b[1;32m      6\u001b[0m \u001b[0;34m\u001b[0m\u001b[0m\n\u001b[1;32m      7\u001b[0m \u001b[0;32mdef\u001b[0m \u001b[0mbar\u001b[0m\u001b[0;34m(\u001b[0m\u001b[0;34m)\u001b[0m\u001b[0;34m:\u001b[0m\u001b[0;34m\u001b[0m\u001b[0m\n\u001b[0;32m----> 8\u001b[0;31m     \u001b[0;32mprint\u001b[0m \u001b[0my\u001b[0m\u001b[0;34m\u001b[0m\u001b[0m\n\u001b[0m",
        "\u001b[0;31mNameError\u001b[0m: global name 'y' is not defined"
       ]
      }
     ],
     "prompt_number": 6
    },
    {
     "cell_type": "markdown",
     "metadata": {},
     "source": "If you make a mistake the interpreter will throw an exception or error.  You can't catch errors."
    },
    {
     "cell_type": "code",
     "collapsed": false,
     "input": "try:\n    print \"Hello. World\"\n    raise ValueError(\"Oops\")\nexcept Exception as e:\n    print e",
     "language": "python",
     "metadata": {},
     "outputs": [
      {
       "output_type": "stream",
       "stream": "stdout",
       "text": "Hello. World\nOops\n"
      }
     ],
     "prompt_number": 1
    },
    {
     "cell_type": "markdown",
     "metadata": {},
     "source": "But you can catch exceptions."
    },
    {
     "cell_type": "code",
     "collapsed": false,
     "input": "try:\n    1 / 0\nexcept Exception:\n    print \"Oops!\"",
     "language": "python",
     "metadata": {},
     "outputs": [
      {
       "output_type": "stream",
       "stream": "stdout",
       "text": "Oops!\n"
      }
     ],
     "prompt_number": 8
    },
    {
     "cell_type": "markdown",
     "metadata": {},
     "source": "Python is multi paradigm.  You can write procedural scripts, but it also supports object oriented programming and functional programming.  You can use multiple styles in the same program when it makes sense."
    },
    {
     "cell_type": "code",
     "collapsed": false,
     "input": "class myClass(object):\n    def __init__(self):\n        print \"Running my constructor!\"\n        self.x = 0\n    def addOne(self):\n        self.x += 1\n    def myValue(self):\n        return self.x\n        \nmy_obj = myClass()\nmy_obj.addOne()\nmy_obj.addOne()\nprint my_obj.myValue()\nprint myClass.myValue(my_obj)",
     "language": "python",
     "metadata": {},
     "outputs": [
      {
       "output_type": "stream",
       "stream": "stdout",
       "text": "Running my constructor!\n2\n2\n"
      }
     ],
     "prompt_number": 9
    },
    {
     "cell_type": "markdown",
     "metadata": {},
     "source": "Class members are never private, but you can mask them with double underscores to prevent namespace pollution."
    },
    {
     "cell_type": "code",
     "collapsed": false,
     "input": "print my_obj.x",
     "language": "python",
     "metadata": {},
     "outputs": [
      {
       "output_type": "stream",
       "stream": "stdout",
       "text": "2\n"
      }
     ],
     "prompt_number": 10
    },
    {
     "cell_type": "code",
     "collapsed": false,
     "input": "class anotherClass(myClass):\n    def __init__(self):\n        super(anotherClass, self).__init__()\n        self.y = -1\n        \n    def _decrementY(self):  #By convention this is private\n        self.y = self.__subtractOne__(self.y)\n        \n    def __subtractOne__(self, val):  #This ends up with a munged name like \"anotherClass__subtractOne__\"\n        return val - 1\n        ",
     "language": "python",
     "metadata": {},
     "outputs": [],
     "prompt_number": 11
    },
    {
     "cell_type": "code",
     "collapsed": false,
     "input": "another_obj = anotherClass()\nanother_obj._decrementY()  # This is private, I shouldn't do this unless I really mean it.\nanother_obj.myValue()\nprint another_obj.x\nprint another_obj.y\nprint another_obj.__subtractOne__(0)  #This won't work in a script, but is ok in IPython",
     "language": "python",
     "metadata": {},
     "outputs": [
      {
       "output_type": "stream",
       "stream": "stdout",
       "text": "Running my constructor!\n0\n-2\n-1\n"
      }
     ],
     "prompt_number": 12
    },
    {
     "cell_type": "markdown",
     "metadata": {},
     "source": "Functions are first class objects in Python.  We can pass them around like any other variable.  This makes a lot of programming tasks much easier."
    },
    {
     "cell_type": "code",
     "collapsed": false,
     "input": "import functools\nfrom math import pi\nadder = lambda x,y: x + y\naddtwo = functools.partial(adder, y=2)\ndata = [1, 2, 0.2, 9, 14, 5, 6, 0.9, 4.5, pi]\nprint map(addtwo, data)",
     "language": "python",
     "metadata": {},
     "outputs": [
      {
       "output_type": "stream",
       "stream": "stdout",
       "text": "[3, 4, 2.2, 11, 16, 7, 8, 2.9, 6.5, 5.141592653589793]\n"
      }
     ],
     "prompt_number": 13
    },
    {
     "cell_type": "markdown",
     "metadata": {},
     "source": "Let's calculate $\\prod_{j=0}^{n-1} j+2$\n"
    },
    {
     "cell_type": "code",
     "collapsed": false,
     "input": "print reduce(lambda a,b: a * b, map(addtwo, data))",
     "language": "python",
     "metadata": {},
     "outputs": [
      {
       "output_type": "stream",
       "stream": "stdout",
       "text": "25218174.3291\n"
      }
     ],
     "prompt_number": 14
    },
    {
     "cell_type": "markdown",
     "metadata": {},
     "source": "Python comes with a number of data structures built in.  The most common ones you'll use are string, list, tuple and dictionary"
    },
    {
     "cell_type": "code",
     "collapsed": false,
     "input": "a_string = \"I'm a string\"  #Strings are immutable\nprint a_string\nprint a_string[10000:]  #print position 0 up to but not including 3",
     "language": "python",
     "metadata": {},
     "outputs": [
      {
       "output_type": "stream",
       "stream": "stdout",
       "text": "I'm a string\n\n"
      }
     ],
     "prompt_number": 3
    },
    {
     "cell_type": "code",
     "collapsed": false,
     "input": "a_string[3] = '_' #try to replace the space with an underscore",
     "language": "python",
     "metadata": {},
     "outputs": [
      {
       "ename": "TypeError",
       "evalue": "'str' object does not support item assignment",
       "output_type": "pyerr",
       "traceback": [
        "\u001b[0;31m---------------------------------------------------------------------------\u001b[0m\n\u001b[0;31mTypeError\u001b[0m                                 Traceback (most recent call last)",
        "\u001b[0;32m<ipython-input-16-2718cb2ab328>\u001b[0m in \u001b[0;36m<module>\u001b[0;34m()\u001b[0m\n\u001b[0;32m----> 1\u001b[0;31m \u001b[0ma_string\u001b[0m\u001b[0;34m[\u001b[0m\u001b[0;36m3\u001b[0m\u001b[0;34m]\u001b[0m \u001b[0;34m=\u001b[0m \u001b[0;34m'_'\u001b[0m \u001b[0;31m#try to replace the space with an underscore\u001b[0m\u001b[0;34m\u001b[0m\u001b[0m\n\u001b[0m",
        "\u001b[0;31mTypeError\u001b[0m: 'str' object does not support item assignment"
       ]
      }
     ],
     "prompt_number": 16
    },
    {
     "cell_type": "code",
     "collapsed": false,
     "input": "a_list = [\"This\", \"is\", \"a\", \"list\", \"of\", \"strings\", \"with\", \"a\", \"number\", 4] # Lists are mutable\nprint a_list\nprint ','.join(a_list[:-1]) #print position 0 to the next to last as a string separated by spaces\na_list[8] = \"digit\"\nprint a_list",
     "language": "python",
     "metadata": {},
     "outputs": [
      {
       "output_type": "stream",
       "stream": "stdout",
       "text": "['This', 'is', 'a', 'list', 'of', 'strings', 'with', 'a', 'number', 4]\nThis is a list of strings with a number\n['This', 'is', 'a', 'list', 'of', 'strings', 'with', 'a', 'digit', 4]\n"
      }
     ],
     "prompt_number": 17
    },
    {
     "cell_type": "markdown",
     "metadata": {},
     "source": "Lists can also be created with list comprehensions"
    },
    {
     "cell_type": "code",
     "collapsed": false,
     "input": "from itertools import count, islice\nfives = [f for f in islice(count(5,5),10) if f % 5 == 0] \nprint fives",
     "language": "python",
     "metadata": {},
     "outputs": [
      {
       "output_type": "stream",
       "stream": "stdout",
       "text": "[5, 10, 15, 20, 25, 30, 35, 40, 45, 50]\n"
      }
     ],
     "prompt_number": 18
    },
    {
     "cell_type": "markdown",
     "metadata": {},
     "source": "Tuples are just like lists, except they're immutable like strings.  "
    },
    {
     "cell_type": "code",
     "collapsed": false,
     "input": "my_tuple = tuple(x for x in range(0, 100))\nprint my_tuple[0:10]",
     "language": "python",
     "metadata": {},
     "outputs": [
      {
       "output_type": "stream",
       "stream": "stdout",
       "text": "(0, 1, 2, 3, 4, 5, 6, 7, 8, 9)\n"
      }
     ],
     "prompt_number": 19
    },
    {
     "cell_type": "markdown",
     "metadata": {},
     "source": "Dictionaries are key values pairs.  The keys must be hashable - or immutable!"
    },
    {
     "cell_type": "code",
     "collapsed": false,
     "input": "my_dict = {'one': 1, 'two': 2, 'three': 3}\nprint my_dict['one'] + my_dict['two'] == my_dict['three']",
     "language": "python",
     "metadata": {},
     "outputs": [
      {
       "output_type": "stream",
       "stream": "stdout",
       "text": "True\n"
      }
     ],
     "prompt_number": 20
    },
    {
     "cell_type": "code",
     "collapsed": false,
     "input": "my_dict[(0,1)] = [3, 4] # A coordinate transformation maybe?\nprint my_dict",
     "language": "python",
     "metadata": {},
     "outputs": [
      {
       "output_type": "stream",
       "stream": "stdout",
       "text": "{(0, 1): [3, 4], 'three': 3, 'two': 2, 'one': 1}\n"
      }
     ],
     "prompt_number": 21
    },
    {
     "cell_type": "code",
     "collapsed": false,
     "input": "some_list = [0, 1] # mutable - not hashable!\nprint my_dict[some_list]",
     "language": "python",
     "metadata": {},
     "outputs": [
      {
       "ename": "TypeError",
       "evalue": "unhashable type: 'list'",
       "output_type": "pyerr",
       "traceback": [
        "\u001b[0;31m---------------------------------------------------------------------------\u001b[0m\n\u001b[0;31mTypeError\u001b[0m                                 Traceback (most recent call last)",
        "\u001b[0;32m<ipython-input-22-16b7cc364fe2>\u001b[0m in \u001b[0;36m<module>\u001b[0;34m()\u001b[0m\n\u001b[1;32m      1\u001b[0m \u001b[0msome_list\u001b[0m \u001b[0;34m=\u001b[0m \u001b[0;34m[\u001b[0m\u001b[0;36m0\u001b[0m\u001b[0;34m,\u001b[0m \u001b[0;36m1\u001b[0m\u001b[0;34m]\u001b[0m \u001b[0;31m# mutable - not hashable!\u001b[0m\u001b[0;34m\u001b[0m\u001b[0m\n\u001b[0;32m----> 2\u001b[0;31m \u001b[0;32mprint\u001b[0m \u001b[0mmy_dict\u001b[0m\u001b[0;34m[\u001b[0m\u001b[0msome_list\u001b[0m\u001b[0;34m]\u001b[0m\u001b[0;34m\u001b[0m\u001b[0m\n\u001b[0m",
        "\u001b[0;31mTypeError\u001b[0m: unhashable type: 'list'"
       ]
      }
     ],
     "prompt_number": 22
    },
    {
     "cell_type": "code",
     "collapsed": false,
     "input": "print my_dict[tuple(some_list)]",
     "language": "python",
     "metadata": {},
     "outputs": [
      {
       "output_type": "stream",
       "stream": "stdout",
       "text": "[3, 4]\n"
      }
     ],
     "prompt_number": 23
    },
    {
     "cell_type": "code",
     "collapsed": false,
     "input": "scalar_keys = filter(lambda x: isinstance(my_dict[x], int), my_dict.keys())\nprint scalar_keys",
     "language": "python",
     "metadata": {},
     "outputs": [
      {
       "output_type": "stream",
       "stream": "stdout",
       "text": "['three', 'two', 'one']\n"
      }
     ],
     "prompt_number": 24
    },
    {
     "cell_type": "markdown",
     "metadata": {},
     "source": "We've gone through most of the basics of the language and some of the interesting standard library pieces. There is a lot more I could cover, many other data types and dozens of libraries.  You can find a reference here: http://docs.python.org/2/library/index.html\n\nOne note: There are two major versions of Python, currently 2.7 and 3.3.  Python 3 is a complete redesign of the language.  Unless you're involved in it's development or you need something specific it offers, stick with 2.7 for now.\n\nLet's do something interesting now.  We're going to download a csv file from the city data repository and do some analysis and visualization - all from Python, right here.\n\n"
    },
    {
     "cell_type": "code",
     "collapsed": false,
     "input": "import pandas\nimport numpy as np\nfrom urlparse import urlparse\nfrom httplib import HTTPSConnection, HTTPConnection\nimport csv\nfrom cStringIO import StringIO\nfrom time import sleep\nimport matplotlib.pyplot as plt\n",
     "language": "python",
     "metadata": {},
     "outputs": [],
     "prompt_number": 4
    },
    {
     "cell_type": "code",
     "collapsed": false,
     "input": "def getElectricityData():\n    url = urlparse(\"https://data.cityofnewyork.us/api/views/74cu-ncm4/rows.csv?accessType=DOWNLOAD\")\n    connection = HTTPSConnection(url.netloc)\n    connection.connect()\n    connection.request('GET', url.path)\n    response = connection.getresponse()\n    return response\n\ndef getZipcodeData(zipcodes):\n    populations = {}\n    url_base = \"http://www.city-data.com/zips/%s.html\"\n    for z in zipcodes:\n        sleep(1)\n        url = urlparse(url_base % z)\n        connection = HTTPConnection(url.netloc)\n        try:\n            connection.connect()\n        except Exception as e:\n            print e\n            continue\n        connection.request('GET', url.path)\n        response = connection.getresponse()\n        result = response.read()\n        search = 'Zip code population in 2010:</b> '\n        start = result.find(search)\n        end = result[start:].find('<br>')\n        try:\n            population = int(result[start + len(search):start + end].replace(',',''))\n            populations[z] = population\n        except Exception:\n            print \"Unable to read: %s\" % url_base % z\n    return populations\n        \n",
     "language": "python",
     "metadata": {},
     "outputs": [],
     "prompt_number": 5
    },
    {
     "cell_type": "code",
     "collapsed": false,
     "input": "elec_data = getElectricityData()\nelec_frame = pandas.read_csv(elec_data)\nprint elec_frame",
     "language": "python",
     "metadata": {},
     "outputs": [
      {
       "output_type": "stream",
       "stream": "stdout",
       "text": "<class 'pandas.core.frame.DataFrame'>\nInt64Index: 1535 entries, 0 to 1534\nData columns (total 5 columns):\nZip Code                         1531  non-null values\nBuilding type (service class)    1535  non-null values\nConsumption (kWh)                1535  non-null values\nConsumption (GJ)                 1535  non-null values\nUtility/Data Source              1535  non-null values\ndtypes: int64(2), object(3)\n"
      }
     ],
     "prompt_number": 6
    },
    {
     "cell_type": "code",
     "collapsed": false,
     "input": "",
     "language": "python",
     "metadata": {},
     "outputs": [
      {
       "output_type": "stream",
       "stream": "stdout",
       "text": "Help on method sum in module pandas.core.frame:\n\nsum(self, axis=0, numeric_only=None, skipna=True, level=None) method of pandas.core.frame.DataFrame instance\n    Return sum over requested axis.\n    NA/null values are excluded\n    \n    Parameters\n    ----------\n    axis : {0, 1}\n        0 for row-wise, 1 for column-wise\n    skipna : boolean, default True\n        Exclude NA/null values. If an entire row/column is NA, the result\n        will be NA\n    level : int, default None\n        If the axis is a MultiIndex (hierarchical), count along a\n        particular level, collapsing into a DataFrame\n    numeric_only : boolean, default None\n        Include only float, int, boolean data. If None, will attempt to use\n        everything, then use only numeric data\n    \n    Returns\n    -------\n    sum : Series (or DataFrame if level specified)\n\n"
      }
     ],
     "prompt_number": 7
    },
    {
     "cell_type": "code",
     "collapsed": false,
     "input": "zipcode_data = elec_frame.groupby('Zip Code')\nzipcodes = [k[0:5] for k in zipcode_data.groups.keys()]\npopulations = getZipcodeData(zipcodes)",
     "language": "python",
     "metadata": {},
     "outputs": [
      {
       "output_type": "stream",
       "stream": "stdout",
       "text": "Unable to read: http://www.city-data.com/zips/11359.html\nUnable to read: http://www.city-data.com/zips/11242.html"
      },
      {
       "output_type": "stream",
       "stream": "stdout",
       "text": "\nUnable to read: http://www.city-data.com/zips/11431.html"
      },
      {
       "output_type": "stream",
       "stream": "stdout",
       "text": "\nUnable to read: http://www.city-data.com/zips/11256.html"
      },
      {
       "output_type": "stream",
       "stream": "stdout",
       "text": "\nUnable to read: http://www.city-data.com/zips/11241.html"
      },
      {
       "output_type": "stream",
       "stream": "stdout",
       "text": "\nUnable to read: http://www.city-data.com/zips/11424.html"
      },
      {
       "output_type": "stream",
       "stream": "stdout",
       "text": "\nUnable to read: http://www.city-data.com/zips/11227.html"
      },
      {
       "output_type": "stream",
       "stream": "stdout",
       "text": "\nUnable to read: http://www.city-data.com/zips/10048.html"
      },
      {
       "output_type": "stream",
       "stream": "stdout",
       "text": "\nUnable to read: http://www.city-data.com/zips/10015.html"
      },
      {
       "output_type": "stream",
       "stream": "stdout",
       "text": "\nUnable to read: http://www.city-data.com/zips/10045.html"
      },
      {
       "output_type": "stream",
       "stream": "stdout",
       "text": "\nUnable to read: http://www.city-data.com/zips/10311.html"
      },
      {
       "output_type": "stream",
       "stream": "stdout",
       "text": "\nUnable to read: http://www.city-data.com/zips/10020.html"
      },
      {
       "output_type": "stream",
       "stream": "stdout",
       "text": "\nUnable to read: http://www.city-data.com/zips/10008.html"
      },
      {
       "output_type": "stream",
       "stream": "stdout",
       "text": "\nUnable to read: http://www.city-data.com/zips/10285.html"
      },
      {
       "output_type": "stream",
       "stream": "stdout",
       "text": "\nUnable to read: http://www.city-data.com/zips/10281.html"
      },
      {
       "output_type": "stream",
       "stream": "stdout",
       "text": "\nUnable to read: http://www.city-data.com/zips/11439.html"
      },
      {
       "output_type": "stream",
       "stream": "stdout",
       "text": "\nUnable to read: http://www.city-data.com/zips/10080.html"
      },
      {
       "output_type": "stream",
       "stream": "stdout",
       "text": "\nUnable to read: http://www.city-data.com/zips/11202.html"
      },
      {
       "output_type": "stream",
       "stream": "stdout",
       "text": "\nUnable to read: http://www.city-data.com/zips/11252.html"
      },
      {
       "output_type": "stream",
       "stream": "stdout",
       "text": "\nUnable to read: http://www.city-data.com/zips/10004.html"
      },
      {
       "output_type": "stream",
       "stream": "stdout",
       "text": "\n"
      }
     ],
     "prompt_number": 8
    },
    {
     "cell_type": "code",
     "collapsed": false,
     "input": "elec_usage = zipcode_data.sum()['Consumption (kWh)']\npoints = {}\nfor k, val in elec_usage.iterkv():\n    if k[0:5] in populations.keys():\n        key = k[0:5]\n        pop = populations[key]\n        points[key] = (pop, val)",
     "language": "python",
     "metadata": {},
     "outputs": [],
     "prompt_number": 9
    },
    {
     "cell_type": "code",
     "collapsed": false,
     "input": "pts = pandas.DataFrame(points).T",
     "language": "python",
     "metadata": {},
     "outputs": [],
     "prompt_number": 10
    },
    {
     "cell_type": "code",
     "collapsed": false,
     "input": "print pts",
     "language": "python",
     "metadata": {},
     "outputs": [
      {
       "output_type": "stream",
       "stream": "stdout",
       "text": "<class 'pandas.core.frame.DataFrame'>\nIndex: 176 entries, 10001 to 11693\nData columns (total 2 columns):\n0    176  non-null values\n1    176  non-null values\ndtypes: int64(2)\n"
      }
     ],
     "prompt_number": 11
    },
    {
     "cell_type": "code",
     "collapsed": false,
     "input": "from numpy import linalg, ones\nfrom pylab import plot, show\nx = pts[0] # Population\ny = pts[1] # Total power usage\nA = np.vstack([x, np.ones(len(x))]).T\nm, b = np.linalg.lstsq(A, y)[0]\nplt.plot(x, m*x + b, 'r')\nplot(x, y, 'b.')\nshow()",
     "language": "python",
     "metadata": {},
     "outputs": [],
     "prompt_number": 12
    },
    {
     "cell_type": "code",
     "collapsed": false,
     "input": "print m, b",
     "language": "python",
     "metadata": {},
     "outputs": [
      {
       "output_type": "stream",
       "stream": "stdout",
       "text": "9382.38033554 93998714.58\n"
      }
     ],
     "prompt_number": 68
    }
   ],
   "metadata": {}
  }
 ]
}